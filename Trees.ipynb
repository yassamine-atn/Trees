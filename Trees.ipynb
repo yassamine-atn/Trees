{
  "nbformat": 4,
  "nbformat_minor": 0,
  "metadata": {
    "colab": {
      "name": "L1:Trees",
      "provenance": [],
      "toc_visible": true
    },
    "kernelspec": {
      "name": "python3",
      "display_name": "Python 3"
    }
  },
  "cells": [
    {
      "cell_type": "markdown",
      "metadata": {
        "id": "1NGGYuQiDQFh"
      },
      "source": [
        "# Decision Tree"
      ]
    },
    {
      "cell_type": "code",
      "metadata": {
        "id": "u0phXYqW6s0y"
      },
      "source": [
        "import pandas as pd \n",
        "data=pd.read_csv(\"titanic-passengers_preprocessed.csv\")\n",
        "data=data.drop([\"Unnamed: 0\"],axis=1)\n"
      ],
      "execution_count": null,
      "outputs": []
    },
    {
      "cell_type": "code",
      "metadata": {
        "id": "yc5pPu5E7E46",
        "outputId": "86e7a53c-08a1-4ee1-8c3a-ebff806a13ac",
        "colab": {
          "base_uri": "https://localhost:8080/",
          "height": 336
        }
      },
      "source": [
        "data.info()"
      ],
      "execution_count": null,
      "outputs": [
        {
          "output_type": "stream",
          "text": [
            "<class 'pandas.core.frame.DataFrame'>\n",
            "RangeIndex: 889 entries, 0 to 888\n",
            "Data columns (total 12 columns):\n",
            " #   Column      Non-Null Count  Dtype  \n",
            "---  ------      --------------  -----  \n",
            " 0   Survived    889 non-null    int64  \n",
            " 1   Pclass      889 non-null    int64  \n",
            " 2   Age         889 non-null    float64\n",
            " 3   SibSp       889 non-null    int64  \n",
            " 4   Parch       889 non-null    int64  \n",
            " 5   Fare        889 non-null    float64\n",
            " 6   Cabin       889 non-null    int64  \n",
            " 7   Embarked    889 non-null    int64  \n",
            " 8   female      889 non-null    int64  \n",
            " 9   male        889 non-null    int64  \n",
            " 10  Title       889 non-null    object \n",
            " 11  FamilySize  889 non-null    int64  \n",
            "dtypes: float64(2), int64(9), object(1)\n",
            "memory usage: 83.5+ KB\n"
          ],
          "name": "stdout"
        }
      ]
    },
    {
      "cell_type": "code",
      "metadata": {
        "id": "x-DdV568D6oz",
        "outputId": "c277da84-2329-46e0-dd47-3543ab2bd0fc",
        "colab": {
          "base_uri": "https://localhost:8080/",
          "height": 195
        }
      },
      "source": [
        "dictt={\"Survived\":{0:'No',1:'Yes'}}\n",
        "data.replace(dictt,inplace=True)\n",
        "data.head()"
      ],
      "execution_count": null,
      "outputs": [
        {
          "output_type": "execute_result",
          "data": {
            "text/html": [
              "<div>\n",
              "<style scoped>\n",
              "    .dataframe tbody tr th:only-of-type {\n",
              "        vertical-align: middle;\n",
              "    }\n",
              "\n",
              "    .dataframe tbody tr th {\n",
              "        vertical-align: top;\n",
              "    }\n",
              "\n",
              "    .dataframe thead th {\n",
              "        text-align: right;\n",
              "    }\n",
              "</style>\n",
              "<table border=\"1\" class=\"dataframe\">\n",
              "  <thead>\n",
              "    <tr style=\"text-align: right;\">\n",
              "      <th></th>\n",
              "      <th>Survived</th>\n",
              "      <th>Pclass</th>\n",
              "      <th>Age</th>\n",
              "      <th>SibSp</th>\n",
              "      <th>Parch</th>\n",
              "      <th>Fare</th>\n",
              "      <th>Cabin</th>\n",
              "      <th>Embarked</th>\n",
              "      <th>female</th>\n",
              "      <th>male</th>\n",
              "      <th>Title</th>\n",
              "      <th>FamilySize</th>\n",
              "    </tr>\n",
              "  </thead>\n",
              "  <tbody>\n",
              "    <tr>\n",
              "      <th>0</th>\n",
              "      <td>No</td>\n",
              "      <td>2</td>\n",
              "      <td>28.0</td>\n",
              "      <td>0</td>\n",
              "      <td>0</td>\n",
              "      <td>13.0000</td>\n",
              "      <td>144</td>\n",
              "      <td>2</td>\n",
              "      <td>0</td>\n",
              "      <td>1</td>\n",
              "      <td>Mrs</td>\n",
              "      <td>0</td>\n",
              "    </tr>\n",
              "    <tr>\n",
              "      <th>1</th>\n",
              "      <td>No</td>\n",
              "      <td>3</td>\n",
              "      <td>25.0</td>\n",
              "      <td>0</td>\n",
              "      <td>0</td>\n",
              "      <td>7.6500</td>\n",
              "      <td>139</td>\n",
              "      <td>2</td>\n",
              "      <td>0</td>\n",
              "      <td>1</td>\n",
              "      <td>Mrs</td>\n",
              "      <td>0</td>\n",
              "    </tr>\n",
              "    <tr>\n",
              "      <th>2</th>\n",
              "      <td>No</td>\n",
              "      <td>3</td>\n",
              "      <td>20.0</td>\n",
              "      <td>0</td>\n",
              "      <td>0</td>\n",
              "      <td>7.8542</td>\n",
              "      <td>144</td>\n",
              "      <td>2</td>\n",
              "      <td>0</td>\n",
              "      <td>1</td>\n",
              "      <td>Mrs</td>\n",
              "      <td>0</td>\n",
              "    </tr>\n",
              "    <tr>\n",
              "      <th>3</th>\n",
              "      <td>No</td>\n",
              "      <td>3</td>\n",
              "      <td>29.0</td>\n",
              "      <td>0</td>\n",
              "      <td>4</td>\n",
              "      <td>21.0750</td>\n",
              "      <td>144</td>\n",
              "      <td>2</td>\n",
              "      <td>1</td>\n",
              "      <td>0</td>\n",
              "      <td>Mrs</td>\n",
              "      <td>4</td>\n",
              "    </tr>\n",
              "    <tr>\n",
              "      <th>4</th>\n",
              "      <td>No</td>\n",
              "      <td>1</td>\n",
              "      <td>31.0</td>\n",
              "      <td>1</td>\n",
              "      <td>0</td>\n",
              "      <td>52.0000</td>\n",
              "      <td>37</td>\n",
              "      <td>2</td>\n",
              "      <td>0</td>\n",
              "      <td>1</td>\n",
              "      <td>Mrs</td>\n",
              "      <td>1</td>\n",
              "    </tr>\n",
              "  </tbody>\n",
              "</table>\n",
              "</div>"
            ],
            "text/plain": [
              "  Survived  Pclass   Age  SibSp  ...  female  male  Title  FamilySize\n",
              "0       No       2  28.0      0  ...       0     1    Mrs           0\n",
              "1       No       3  25.0      0  ...       0     1    Mrs           0\n",
              "2       No       3  20.0      0  ...       0     1    Mrs           0\n",
              "3       No       3  29.0      0  ...       1     0    Mrs           4\n",
              "4       No       1  31.0      1  ...       0     1    Mrs           1\n",
              "\n",
              "[5 rows x 12 columns]"
            ]
          },
          "metadata": {
            "tags": []
          },
          "execution_count": 38
        }
      ]
    },
    {
      "cell_type": "code",
      "metadata": {
        "id": "e2ug_Jz57GAF",
        "outputId": "472a6bf4-c32c-474d-df47-c856cead3ae7",
        "colab": {
          "base_uri": "https://localhost:8080/",
          "height": 50
        }
      },
      "source": [
        "\n",
        "from sklearn.model_selection import train_test_split\n",
        "from sklearn.tree import DecisionTreeClassifier\n",
        "from sklearn.metrics import accuracy_score\n",
        "from sklearn.preprocessing import LabelEncoder\n",
        "encoder=LabelEncoder()\n",
        "data[\"Title\"]=encoder.fit_transform(data[\"Title\"])\n",
        "x=data.drop([\"Survived\"],axis=1)\n",
        "y=data[\"Survived\"]\n",
        "x_train, x_vt, y_train, y_vt = train_test_split(x, y, test_size=0.4, random_state=0)\n",
        "x_validation, x_test, y_validation, y_test = train_test_split(x_vt, y_vt, test_size=0.5, random_state=0)\n",
        "model=DecisionTreeClassifier() \n",
        "model.fit(x_train,y_train)\n",
        "y_predict=model.predict(x_train)\n",
        "print(\"accuracy of descision tree on the train data set\",accuracy_score(y_predict,y_train))\n",
        "y_predictt=model.predict(x_test)\n",
        "print(\"accuracy of descision tree on the test data set\",accuracy_score(y_predictt,y_test))"
      ],
      "execution_count": null,
      "outputs": [
        {
          "output_type": "stream",
          "text": [
            "accuracy of descision tree on the train data set 0.9906191369606003\n",
            "accuracy of descision tree on the test data set 0.797752808988764\n"
          ],
          "name": "stdout"
        }
      ]
    },
    {
      "cell_type": "markdown",
      "metadata": {
        "id": "90clwt50GUGS"
      },
      "source": [
        "\n",
        "*   trainng accuracy 1 -> expected \n",
        "*   The accuracy on test data is much lower : overfit the data\n",
        "\n",
        "\n",
        "\n"
      ]
    },
    {
      "cell_type": "code",
      "metadata": {
        "id": "EIMpl0RFGity",
        "outputId": "6eb92cf7-bf28-43a6-bd9b-6c74c2e4b973",
        "colab": {
          "base_uri": "https://localhost:8080/",
          "height": 50
        }
      },
      "source": [
        "#change parameters\n",
        "model2=DecisionTreeClassifier(max_features=5,max_depth=3)\n",
        "model2.fit(x_train,y_train)\n",
        "y_predict=model2.predict(x_train)\n",
        "print(\"accuracy of descision tree on the train data set\",accuracy_score(y_predict,y_train))\n",
        "y_predictt=model2.predict(x_test)\n",
        "print(\"accuracy of descision tree on the test data set\",accuracy_score(y_predictt,y_test))"
      ],
      "execution_count": null,
      "outputs": [
        {
          "output_type": "stream",
          "text": [
            "accuracy of descision tree on the train data set 0.8105065666041276\n",
            "accuracy of descision tree on the test data set 0.8651685393258427\n"
          ],
          "name": "stdout"
        }
      ]
    },
    {
      "cell_type": "markdown",
      "metadata": {
        "id": "f_78zboTIefq"
      },
      "source": [
        "\n",
        "*  Training accuracy is predictably lower as i restrcited  decision tree, so it does not fit perfectly to training data because of its constraints \n",
        "\n",
        "*  the gap between The accuracy on test and training accuracy is lower (maybe not overfitting ) \n"
      ]
    },
    {
      "cell_type": "markdown",
      "metadata": {
        "id": "Ac9ZgEPoIKOG"
      },
      "source": [
        "**Validation**"
      ]
    },
    {
      "cell_type": "code",
      "metadata": {
        "id": "iVkfQLqRKVm1",
        "outputId": "0aa8dddf-72e5-47a3-a4cb-cf6ebad8b24e",
        "colab": {
          "base_uri": "https://localhost:8080/",
          "height": 34
        }
      },
      "source": [
        "y_validationn=model2.predict(x_validation)\n",
        "print(\"accuracy of descision tree on the validation data set\",accuracy_score(y_validationn,y_validation))"
      ],
      "execution_count": null,
      "outputs": [
        {
          "output_type": "stream",
          "text": [
            "accuracy of descision tree on the validation data set 0.7865168539325843\n"
          ],
          "name": "stdout"
        }
      ]
    },
    {
      "cell_type": "markdown",
      "metadata": {
        "id": "Ww77HgWcK3A1"
      },
      "source": [
        "\n",
        "\n",
        "*    The accuracy on test data, on validation data and on training data are close to each other (not overfitting) \n"
      ]
    },
    {
      "cell_type": "markdown",
      "metadata": {
        "id": "s4phgQhIMcTX"
      },
      "source": [
        "**Visualisation**"
      ]
    },
    {
      "cell_type": "code",
      "metadata": {
        "id": "KLDffuyO_HsU"
      },
      "source": [
        "\n",
        "from sklearn.tree import export_graphviz\n",
        "from sklearn.model_selection import train_test_split\n",
        "import pandas as pd\n",
        "import plotly.express as px\n",
        "from pydotplus import graph_from_dot_data\n",
        "from IPython.display import Image\n"
      ],
      "execution_count": null,
      "outputs": []
    },
    {
      "cell_type": "code",
      "metadata": {
        "id": "WXnIR3G2M6IP",
        "outputId": "b59f1dbf-ff53-42c6-8081-242b23d411e0",
        "colab": {
          "base_uri": "https://localhost:8080/",
          "height": 538
        }
      },
      "source": [
        "import graphviz\n",
        "from sklearn import tree\n",
        "dot_data = tree.export_graphviz(model2, out_file=None, feature_names=x.columns,filled=True \n",
        ")\n",
        "\n",
        "graph = graphviz.Source(dot_data, format=\"png\") \n",
        "graph"
      ],
      "execution_count": null,
      "outputs": [
        {
          "output_type": "execute_result",
          "data": {
            "text/plain": [
              "<graphviz.files.Source at 0x7f2de7f22828>"
            ],
            "image/svg+xml": "<?xml version=\"1.0\" encoding=\"UTF-8\" standalone=\"no\"?>\n<!DOCTYPE svg PUBLIC \"-//W3C//DTD SVG 1.1//EN\"\n \"http://www.w3.org/Graphics/SVG/1.1/DTD/svg11.dtd\">\n<!-- Generated by graphviz version 2.40.1 (20161225.0304)\n -->\n<!-- Title: Tree Pages: 1 -->\n<svg width=\"983pt\" height=\"373pt\"\n viewBox=\"0.00 0.00 982.50 373.00\" xmlns=\"http://www.w3.org/2000/svg\" xmlns:xlink=\"http://www.w3.org/1999/xlink\">\n<g id=\"graph0\" class=\"graph\" transform=\"scale(1 1) rotate(0) translate(4 369)\">\n<title>Tree</title>\n<polygon fill=\"#ffffff\" stroke=\"transparent\" points=\"-4,4 -4,-369 978.5,-369 978.5,4 -4,4\"/>\n<!-- 0 -->\n<g id=\"node1\" class=\"node\">\n<title>0</title>\n<polygon fill=\"#f5cfb4\" stroke=\"#000000\" points=\"530.5,-365 405.5,-365 405.5,-297 530.5,-297 530.5,-365\"/>\n<text text-anchor=\"middle\" x=\"468\" y=\"-349.8\" font-family=\"Times,serif\" font-size=\"14.00\" fill=\"#000000\">male &lt;= 0.5</text>\n<text text-anchor=\"middle\" x=\"468\" y=\"-334.8\" font-family=\"Times,serif\" font-size=\"14.00\" fill=\"#000000\">gini = 0.472</text>\n<text text-anchor=\"middle\" x=\"468\" y=\"-319.8\" font-family=\"Times,serif\" font-size=\"14.00\" fill=\"#000000\">samples = 533</text>\n<text text-anchor=\"middle\" x=\"468\" y=\"-304.8\" font-family=\"Times,serif\" font-size=\"14.00\" fill=\"#000000\">value = [329, 204]</text>\n</g>\n<!-- 1 -->\n<g id=\"node2\" class=\"node\">\n<title>1</title>\n<polygon fill=\"#8cc6f0\" stroke=\"#000000\" points=\"414.5,-261 297.5,-261 297.5,-193 414.5,-193 414.5,-261\"/>\n<text text-anchor=\"middle\" x=\"356\" y=\"-245.8\" font-family=\"Times,serif\" font-size=\"14.00\" fill=\"#000000\">Pclass &lt;= 2.5</text>\n<text text-anchor=\"middle\" x=\"356\" y=\"-230.8\" font-family=\"Times,serif\" font-size=\"14.00\" fill=\"#000000\">gini = 0.416</text>\n<text text-anchor=\"middle\" x=\"356\" y=\"-215.8\" font-family=\"Times,serif\" font-size=\"14.00\" fill=\"#000000\">samples = 190</text>\n<text text-anchor=\"middle\" x=\"356\" y=\"-200.8\" font-family=\"Times,serif\" font-size=\"14.00\" fill=\"#000000\">value = [56, 134]</text>\n</g>\n<!-- 0&#45;&gt;1 -->\n<g id=\"edge1\" class=\"edge\">\n<title>0&#45;&gt;1</title>\n<path fill=\"none\" stroke=\"#000000\" d=\"M431.327,-296.9465C421.3677,-287.6986 410.4789,-277.5876 400.1532,-267.9994\"/>\n<polygon fill=\"#000000\" stroke=\"#000000\" points=\"402.4649,-265.3698 392.7554,-261.13 397.7018,-270.4993 402.4649,-265.3698\"/>\n<text text-anchor=\"middle\" x=\"393.6807\" y=\"-282.4129\" font-family=\"Times,serif\" font-size=\"14.00\" fill=\"#000000\">True</text>\n</g>\n<!-- 8 -->\n<g id=\"node9\" class=\"node\">\n<title>8</title>\n<polygon fill=\"#eca16c\" stroke=\"#000000\" points=\"652.5,-261 535.5,-261 535.5,-193 652.5,-193 652.5,-261\"/>\n<text text-anchor=\"middle\" x=\"594\" y=\"-245.8\" font-family=\"Times,serif\" font-size=\"14.00\" fill=\"#000000\">Pclass &lt;= 1.5</text>\n<text text-anchor=\"middle\" x=\"594\" y=\"-230.8\" font-family=\"Times,serif\" font-size=\"14.00\" fill=\"#000000\">gini = 0.325</text>\n<text text-anchor=\"middle\" x=\"594\" y=\"-215.8\" font-family=\"Times,serif\" font-size=\"14.00\" fill=\"#000000\">samples = 343</text>\n<text text-anchor=\"middle\" x=\"594\" y=\"-200.8\" font-family=\"Times,serif\" font-size=\"14.00\" fill=\"#000000\">value = [273, 70]</text>\n</g>\n<!-- 0&#45;&gt;8 -->\n<g id=\"edge8\" class=\"edge\">\n<title>0&#45;&gt;8</title>\n<path fill=\"none\" stroke=\"#000000\" d=\"M509.2571,-296.9465C520.5701,-287.6088 532.9492,-277.3911 544.6658,-267.7203\"/>\n<polygon fill=\"#000000\" stroke=\"#000000\" points=\"547.1659,-270.195 552.6502,-261.13 542.71,-264.7964 547.1659,-270.195\"/>\n<text text-anchor=\"middle\" x=\"550.2698\" y=\"-282.3164\" font-family=\"Times,serif\" font-size=\"14.00\" fill=\"#000000\">False</text>\n</g>\n<!-- 2 -->\n<g id=\"node3\" class=\"node\">\n<title>2</title>\n<polygon fill=\"#4ba6e7\" stroke=\"#000000\" points=\"230.5,-157 111.5,-157 111.5,-89 230.5,-89 230.5,-157\"/>\n<text text-anchor=\"middle\" x=\"171\" y=\"-141.8\" font-family=\"Times,serif\" font-size=\"14.00\" fill=\"#000000\">Embarked &lt;= 1.5</text>\n<text text-anchor=\"middle\" x=\"171\" y=\"-126.8\" font-family=\"Times,serif\" font-size=\"14.00\" fill=\"#000000\">gini = 0.15</text>\n<text text-anchor=\"middle\" x=\"171\" y=\"-111.8\" font-family=\"Times,serif\" font-size=\"14.00\" fill=\"#000000\">samples = 98</text>\n<text text-anchor=\"middle\" x=\"171\" y=\"-96.8\" font-family=\"Times,serif\" font-size=\"14.00\" fill=\"#000000\">value = [8, 90]</text>\n</g>\n<!-- 1&#45;&gt;2 -->\n<g id=\"edge2\" class=\"edge\">\n<title>1&#45;&gt;2</title>\n<path fill=\"none\" stroke=\"#000000\" d=\"M297.4648,-194.0938C279.0964,-183.7677 258.653,-172.2752 239.6507,-161.5928\"/>\n<polygon fill=\"#000000\" stroke=\"#000000\" points=\"241.1771,-158.4358 230.7449,-156.5863 237.7468,-164.5377 241.1771,-158.4358\"/>\n</g>\n<!-- 5 -->\n<g id=\"node6\" class=\"node\">\n<title>5</title>\n<polygon fill=\"#fdf5ef\" stroke=\"#000000\" points=\"418,-157 294,-157 294,-89 418,-89 418,-157\"/>\n<text text-anchor=\"middle\" x=\"356\" y=\"-141.8\" font-family=\"Times,serif\" font-size=\"14.00\" fill=\"#000000\">FamilySize &lt;= 3.5</text>\n<text text-anchor=\"middle\" x=\"356\" y=\"-126.8\" font-family=\"Times,serif\" font-size=\"14.00\" fill=\"#000000\">gini = 0.499</text>\n<text text-anchor=\"middle\" x=\"356\" y=\"-111.8\" font-family=\"Times,serif\" font-size=\"14.00\" fill=\"#000000\">samples = 92</text>\n<text text-anchor=\"middle\" x=\"356\" y=\"-96.8\" font-family=\"Times,serif\" font-size=\"14.00\" fill=\"#000000\">value = [48, 44]</text>\n</g>\n<!-- 1&#45;&gt;5 -->\n<g id=\"edge5\" class=\"edge\">\n<title>1&#45;&gt;5</title>\n<path fill=\"none\" stroke=\"#000000\" d=\"M356,-192.9465C356,-184.776 356,-175.9318 356,-167.3697\"/>\n<polygon fill=\"#000000\" stroke=\"#000000\" points=\"359.5001,-167.13 356,-157.13 352.5001,-167.13 359.5001,-167.13\"/>\n</g>\n<!-- 3 -->\n<g id=\"node4\" class=\"node\">\n<title>3</title>\n<polygon fill=\"#399de5\" stroke=\"#000000\" points=\"102,-53 0,-53 0,0 102,0 102,-53\"/>\n<text text-anchor=\"middle\" x=\"51\" y=\"-37.8\" font-family=\"Times,serif\" font-size=\"14.00\" fill=\"#000000\">gini = 0.0</text>\n<text text-anchor=\"middle\" x=\"51\" y=\"-22.8\" font-family=\"Times,serif\" font-size=\"14.00\" fill=\"#000000\">samples = 26</text>\n<text text-anchor=\"middle\" x=\"51\" y=\"-7.8\" font-family=\"Times,serif\" font-size=\"14.00\" fill=\"#000000\">value = [0, 26]</text>\n</g>\n<!-- 2&#45;&gt;3 -->\n<g id=\"edge3\" class=\"edge\">\n<title>2&#45;&gt;3</title>\n<path fill=\"none\" stroke=\"#000000\" d=\"M128.6925,-88.9777C116.8501,-79.4545 103.9979,-69.1191 92.2195,-59.6473\"/>\n<polygon fill=\"#000000\" stroke=\"#000000\" points=\"94.2486,-56.7877 84.2624,-53.2485 89.8618,-62.2427 94.2486,-56.7877\"/>\n</g>\n<!-- 4 -->\n<g id=\"node5\" class=\"node\">\n<title>4</title>\n<polygon fill=\"#52a9e8\" stroke=\"#000000\" points=\"222,-53 120,-53 120,0 222,0 222,-53\"/>\n<text text-anchor=\"middle\" x=\"171\" y=\"-37.8\" font-family=\"Times,serif\" font-size=\"14.00\" fill=\"#000000\">gini = 0.198</text>\n<text text-anchor=\"middle\" x=\"171\" y=\"-22.8\" font-family=\"Times,serif\" font-size=\"14.00\" fill=\"#000000\">samples = 72</text>\n<text text-anchor=\"middle\" x=\"171\" y=\"-7.8\" font-family=\"Times,serif\" font-size=\"14.00\" fill=\"#000000\">value = [8, 64]</text>\n</g>\n<!-- 2&#45;&gt;4 -->\n<g id=\"edge4\" class=\"edge\">\n<title>2&#45;&gt;4</title>\n<path fill=\"none\" stroke=\"#000000\" d=\"M171,-88.9777C171,-80.7364 171,-71.887 171,-63.5153\"/>\n<polygon fill=\"#000000\" stroke=\"#000000\" points=\"174.5001,-63.2484 171,-53.2485 167.5001,-63.2485 174.5001,-63.2484\"/>\n</g>\n<!-- 6 -->\n<g id=\"node7\" class=\"node\">\n<title>6</title>\n<polygon fill=\"#c8e4f8\" stroke=\"#000000\" points=\"350,-53 240,-53 240,0 350,0 350,-53\"/>\n<text text-anchor=\"middle\" x=\"295\" y=\"-37.8\" font-family=\"Times,serif\" font-size=\"14.00\" fill=\"#000000\">gini = 0.487</text>\n<text text-anchor=\"middle\" x=\"295\" y=\"-22.8\" font-family=\"Times,serif\" font-size=\"14.00\" fill=\"#000000\">samples = 74</text>\n<text text-anchor=\"middle\" x=\"295\" y=\"-7.8\" font-family=\"Times,serif\" font-size=\"14.00\" fill=\"#000000\">value = [31, 43]</text>\n</g>\n<!-- 5&#45;&gt;6 -->\n<g id=\"edge6\" class=\"edge\">\n<title>5&#45;&gt;6</title>\n<path fill=\"none\" stroke=\"#000000\" d=\"M334.4937,-88.9777C328.9369,-80.187 322.9427,-70.7044 317.3441,-61.8477\"/>\n<polygon fill=\"#000000\" stroke=\"#000000\" points=\"320.2101,-59.8312 311.9084,-53.2485 314.2931,-63.5714 320.2101,-59.8312\"/>\n</g>\n<!-- 7 -->\n<g id=\"node8\" class=\"node\">\n<title>7</title>\n<polygon fill=\"#e78845\" stroke=\"#000000\" points=\"470,-53 368,-53 368,0 470,0 470,-53\"/>\n<text text-anchor=\"middle\" x=\"419\" y=\"-37.8\" font-family=\"Times,serif\" font-size=\"14.00\" fill=\"#000000\">gini = 0.105</text>\n<text text-anchor=\"middle\" x=\"419\" y=\"-22.8\" font-family=\"Times,serif\" font-size=\"14.00\" fill=\"#000000\">samples = 18</text>\n<text text-anchor=\"middle\" x=\"419\" y=\"-7.8\" font-family=\"Times,serif\" font-size=\"14.00\" fill=\"#000000\">value = [17, 1]</text>\n</g>\n<!-- 5&#45;&gt;7 -->\n<g id=\"edge7\" class=\"edge\">\n<title>5&#45;&gt;7</title>\n<path fill=\"none\" stroke=\"#000000\" d=\"M378.2114,-88.9777C383.9504,-80.187 390.1412,-70.7044 395.9233,-61.8477\"/>\n<polygon fill=\"#000000\" stroke=\"#000000\" points=\"399.0013,-63.5354 401.5373,-53.2485 393.1398,-59.7087 399.0013,-63.5354\"/>\n</g>\n<!-- 9 -->\n<g id=\"node10\" class=\"node\">\n<title>9</title>\n<polygon fill=\"#f6d2b9\" stroke=\"#000000\" points=\"649,-157 539,-157 539,-89 649,-89 649,-157\"/>\n<text text-anchor=\"middle\" x=\"594\" y=\"-141.8\" font-family=\"Times,serif\" font-size=\"14.00\" fill=\"#000000\">Age &lt;= 28.5</text>\n<text text-anchor=\"middle\" x=\"594\" y=\"-126.8\" font-family=\"Times,serif\" font-size=\"14.00\" fill=\"#000000\">gini = 0.477</text>\n<text text-anchor=\"middle\" x=\"594\" y=\"-111.8\" font-family=\"Times,serif\" font-size=\"14.00\" fill=\"#000000\">samples = 74</text>\n<text text-anchor=\"middle\" x=\"594\" y=\"-96.8\" font-family=\"Times,serif\" font-size=\"14.00\" fill=\"#000000\">value = [45, 29]</text>\n</g>\n<!-- 8&#45;&gt;9 -->\n<g id=\"edge9\" class=\"edge\">\n<title>8&#45;&gt;9</title>\n<path fill=\"none\" stroke=\"#000000\" d=\"M594,-192.9465C594,-184.776 594,-175.9318 594,-167.3697\"/>\n<polygon fill=\"#000000\" stroke=\"#000000\" points=\"597.5001,-167.13 594,-157.13 590.5001,-167.13 597.5001,-167.13\"/>\n</g>\n<!-- 12 -->\n<g id=\"node13\" class=\"node\">\n<title>12</title>\n<polygon fill=\"#ea985d\" stroke=\"#000000\" points=\"843.5,-157 726.5,-157 726.5,-89 843.5,-89 843.5,-157\"/>\n<text text-anchor=\"middle\" x=\"785\" y=\"-141.8\" font-family=\"Times,serif\" font-size=\"14.00\" fill=\"#000000\">Title &lt;= 1.0</text>\n<text text-anchor=\"middle\" x=\"785\" y=\"-126.8\" font-family=\"Times,serif\" font-size=\"14.00\" fill=\"#000000\">gini = 0.258</text>\n<text text-anchor=\"middle\" x=\"785\" y=\"-111.8\" font-family=\"Times,serif\" font-size=\"14.00\" fill=\"#000000\">samples = 269</text>\n<text text-anchor=\"middle\" x=\"785\" y=\"-96.8\" font-family=\"Times,serif\" font-size=\"14.00\" fill=\"#000000\">value = [228, 41]</text>\n</g>\n<!-- 8&#45;&gt;12 -->\n<g id=\"edge12\" class=\"edge\">\n<title>8&#45;&gt;12</title>\n<path fill=\"none\" stroke=\"#000000\" d=\"M652.6043,-195.0898C673.042,-183.9614 696.1437,-171.3825 717.2618,-159.8836\"/>\n<polygon fill=\"#000000\" stroke=\"#000000\" points=\"719.0687,-162.885 726.1774,-155.029 715.7212,-156.7373 719.0687,-162.885\"/>\n</g>\n<!-- 10 -->\n<g id=\"node11\" class=\"node\">\n<title>10</title>\n<polygon fill=\"#7bbeee\" stroke=\"#000000\" points=\"583.5,-53 488.5,-53 488.5,0 583.5,0 583.5,-53\"/>\n<text text-anchor=\"middle\" x=\"536\" y=\"-37.8\" font-family=\"Times,serif\" font-size=\"14.00\" fill=\"#000000\">gini = 0.375</text>\n<text text-anchor=\"middle\" x=\"536\" y=\"-22.8\" font-family=\"Times,serif\" font-size=\"14.00\" fill=\"#000000\">samples = 12</text>\n<text text-anchor=\"middle\" x=\"536\" y=\"-7.8\" font-family=\"Times,serif\" font-size=\"14.00\" fill=\"#000000\">value = [3, 9]</text>\n</g>\n<!-- 9&#45;&gt;10 -->\n<g id=\"edge10\" class=\"edge\">\n<title>9&#45;&gt;10</title>\n<path fill=\"none\" stroke=\"#000000\" d=\"M573.5514,-88.9777C568.2678,-80.187 562.5684,-70.7044 557.2452,-61.8477\"/>\n<polygon fill=\"#000000\" stroke=\"#000000\" points=\"560.2282,-60.0165 552.0768,-53.2485 554.2285,-63.6225 560.2282,-60.0165\"/>\n</g>\n<!-- 11 -->\n<g id=\"node12\" class=\"node\">\n<title>11</title>\n<polygon fill=\"#f1bd97\" stroke=\"#000000\" points=\"712,-53 602,-53 602,0 712,0 712,-53\"/>\n<text text-anchor=\"middle\" x=\"657\" y=\"-37.8\" font-family=\"Times,serif\" font-size=\"14.00\" fill=\"#000000\">gini = 0.437</text>\n<text text-anchor=\"middle\" x=\"657\" y=\"-22.8\" font-family=\"Times,serif\" font-size=\"14.00\" fill=\"#000000\">samples = 62</text>\n<text text-anchor=\"middle\" x=\"657\" y=\"-7.8\" font-family=\"Times,serif\" font-size=\"14.00\" fill=\"#000000\">value = [42, 20]</text>\n</g>\n<!-- 9&#45;&gt;11 -->\n<g id=\"edge11\" class=\"edge\">\n<title>9&#45;&gt;11</title>\n<path fill=\"none\" stroke=\"#000000\" d=\"M616.2114,-88.9777C621.9504,-80.187 628.1412,-70.7044 633.9233,-61.8477\"/>\n<polygon fill=\"#000000\" stroke=\"#000000\" points=\"637.0013,-63.5354 639.5373,-53.2485 631.1398,-59.7087 637.0013,-63.5354\"/>\n</g>\n<!-- 13 -->\n<g id=\"node14\" class=\"node\">\n<title>13</title>\n<polygon fill=\"#d5eaf9\" stroke=\"#000000\" points=\"839.5,-53 730.5,-53 730.5,0 839.5,0 839.5,-53\"/>\n<text text-anchor=\"middle\" x=\"785\" y=\"-37.8\" font-family=\"Times,serif\" font-size=\"14.00\" fill=\"#000000\">gini = 0.493</text>\n<text text-anchor=\"middle\" x=\"785\" y=\"-22.8\" font-family=\"Times,serif\" font-size=\"14.00\" fill=\"#000000\">samples = 25</text>\n<text text-anchor=\"middle\" x=\"785\" y=\"-7.8\" font-family=\"Times,serif\" font-size=\"14.00\" fill=\"#000000\">value = [11, 14]</text>\n</g>\n<!-- 12&#45;&gt;13 -->\n<g id=\"edge13\" class=\"edge\">\n<title>12&#45;&gt;13</title>\n<path fill=\"none\" stroke=\"#000000\" d=\"M785,-88.9777C785,-80.7364 785,-71.887 785,-63.5153\"/>\n<polygon fill=\"#000000\" stroke=\"#000000\" points=\"788.5001,-63.2484 785,-53.2485 781.5001,-63.2485 788.5001,-63.2484\"/>\n</g>\n<!-- 14 -->\n<g id=\"node15\" class=\"node\">\n<title>14</title>\n<polygon fill=\"#e89152\" stroke=\"#000000\" points=\"974.5,-53 857.5,-53 857.5,0 974.5,0 974.5,-53\"/>\n<text text-anchor=\"middle\" x=\"916\" y=\"-37.8\" font-family=\"Times,serif\" font-size=\"14.00\" fill=\"#000000\">gini = 0.197</text>\n<text text-anchor=\"middle\" x=\"916\" y=\"-22.8\" font-family=\"Times,serif\" font-size=\"14.00\" fill=\"#000000\">samples = 244</text>\n<text text-anchor=\"middle\" x=\"916\" y=\"-7.8\" font-family=\"Times,serif\" font-size=\"14.00\" fill=\"#000000\">value = [217, 27]</text>\n</g>\n<!-- 12&#45;&gt;14 -->\n<g id=\"edge14\" class=\"edge\">\n<title>12&#45;&gt;14</title>\n<path fill=\"none\" stroke=\"#000000\" d=\"M831.1857,-88.9777C844.2379,-79.3629 858.4139,-68.9203 871.3727,-59.3743\"/>\n<polygon fill=\"#000000\" stroke=\"#000000\" points=\"873.7131,-61.9974 879.6886,-53.2485 869.5614,-56.3615 873.7131,-61.9974\"/>\n</g>\n</g>\n</svg>\n"
          },
          "metadata": {
            "tags": []
          },
          "execution_count": 43
        }
      ]
    },
    {
      "cell_type": "markdown",
      "metadata": {
        "id": "2mX1MydAS5Wq"
      },
      "source": [
        "manual prediction :females with Pclass = 1 and number cabin <= 4 have survived of the three of them  "
      ]
    },
    {
      "cell_type": "markdown",
      "metadata": {
        "id": "o59PTuc-TqdH"
      },
      "source": [
        "**Pruning**\n"
      ]
    },
    {
      "cell_type": "code",
      "metadata": {
        "id": "9Xdg2rAeNBv7",
        "outputId": "8be403db-dba5-4550-b360-d5696b8de444",
        "colab": {
          "base_uri": "https://localhost:8080/",
          "height": 353
        }
      },
      "source": [
        "model = DecisionTreeClassifier()\n",
        "path = model.cost_complexity_pruning_path(x_train, y_train)\n",
        "ccp_alphas, impurities = path.ccp_alphas, path.impurities\n",
        "print(ccp_alphas)\n",
        "print(impurities)"
      ],
      "execution_count": null,
      "outputs": [
        {
          "output_type": "stream",
          "text": [
            "[0.         0.00012508 0.00012508 0.00015635 0.00020846 0.00021889\n",
            " 0.00030322 0.0003936  0.00062539 0.00084428 0.00093809 0.00107084\n",
            " 0.00118397 0.00121281 0.00125078 0.00147528 0.00150094 0.00156348\n",
            " 0.00156348 0.00158255 0.00164165 0.00164165 0.00166119 0.00168856\n",
            " 0.00175891 0.00177194 0.00184326 0.0018449  0.00190378 0.00191028\n",
            " 0.00195956 0.00202585 0.00225141 0.00230713 0.00249165 0.00250156\n",
            " 0.00257417 0.00257603 0.00276309 0.00281426 0.00300188 0.00312695\n",
            " 0.00322812 0.00351782 0.00358483 0.00364811 0.00417202 0.00505682\n",
            " 0.00506329 0.00603659 0.0061402  0.00736271 0.00751251 0.01500399\n",
            " 0.01834712 0.03448884 0.11524269]\n",
            "[0.01225766 0.01238274 0.01250782 0.01266417 0.01287263 0.01309152\n",
            " 0.01339474 0.01418194 0.01480733 0.01818444 0.01912253 0.02233506\n",
            " 0.03299076 0.04026763 0.04276919 0.04719504 0.05319879 0.05632574\n",
            " 0.0594527  0.06261781 0.06590111 0.06918441 0.07582919 0.0792063\n",
            " 0.08272412 0.086268   0.08995452 0.09364432 0.10125943 0.11081086\n",
            " 0.11668953 0.11871539 0.12096679 0.13019532 0.13268697 0.13769009\n",
            " 0.14541261 0.15571674 0.15847983 0.16129409 0.16429597 0.16742292\n",
            " 0.17387917 0.18091481 0.19525413 0.20619847 0.21871452 0.22882816\n",
            " 0.24401803 0.25005462 0.25619482 0.26355753 0.27107004 0.28607403\n",
            " 0.32276828 0.35725712 0.47249982]\n"
          ],
          "name": "stdout"
        }
      ]
    },
    {
      "cell_type": "code",
      "metadata": {
        "id": "AuIgPNUyWIur",
        "outputId": "5463e58f-63f8-48f6-bbf2-0e7b3b47aab2",
        "colab": {
          "base_uri": "https://localhost:8080/",
          "height": 34
        }
      },
      "source": [
        "models = []\n",
        "for ccp_alpha in ccp_alphas:\n",
        "    model = DecisionTreeClassifier(random_state=0, ccp_alpha=ccp_alpha)\n",
        "    model.fit(x_train, y_train)\n",
        "    models.append(model)\n",
        "print(\"Number of nodes in the last tree is: {} with ccp_alpha: {}\".format(\n",
        "      models[-1].tree_.node_count, ccp_alphas[-1]))"
      ],
      "execution_count": null,
      "outputs": [
        {
          "output_type": "stream",
          "text": [
            "Number of nodes in the last tree is: 1 with ccp_alpha: 0.11524269491211286\n"
          ],
          "name": "stdout"
        }
      ]
    },
    {
      "cell_type": "code",
      "metadata": {
        "id": "j4OaBLT2Ww3l",
        "outputId": "fb4f4adc-b298-4796-e4b8-0b502eac1a2c",
        "colab": {
          "base_uri": "https://localhost:8080/",
          "height": 295
        }
      },
      "source": [
        "import matplotlib.pyplot as plt\n",
        "train_scores = [model.score(x_train, y_train) for model in models]\n",
        "test_scores = [model.score(x_test, y_test) for model in models]\n",
        "\n",
        "fig, ax = plt.subplots()\n",
        "ax.set_xlabel(\"alpha\")\n",
        "ax.set_ylabel(\"accuracy\")\n",
        "ax.set_title(\"Accuracy vs alpha for training and testing sets\")\n",
        "ax.plot(ccp_alphas, train_scores, marker='o', label=\"train\",\n",
        "        drawstyle=\"steps-post\")\n",
        "ax.plot(ccp_alphas, test_scores, marker='o', label=\"test\",\n",
        "        drawstyle=\"steps-post\")\n",
        "ax.legend()\n",
        "plt.show()"
      ],
      "execution_count": null,
      "outputs": [
        {
          "output_type": "display_data",
          "data": {
            "image/png": "[encoded data removed]",
            "text/plain": [
              "<Figure size 432x288 with 1 Axes>"
            ]
          },
          "metadata": {
            "tags": [],
            "needs_background": "light"
          }
        }
      ]
    },
    {
      "cell_type": "markdown",
      "metadata": {
        "id": "iRYpChs8ZX2M"
      },
      "source": [
        "\n",
        "\n",
        "*   When ccp_alpha is set to zero  the tree overfits, leading to a 100% training accuracy and 88% testing accuracy. As alpha increases, more of the tree is pruned, thus creating a decision tree that generalizes better. In this example, setting ccp_alpha=0.00358483 maximizes the testing accuracy.\n",
        "\n"
      ]
    },
    {
      "cell_type": "code",
      "metadata": {
        "id": "3gIckaybXDrN",
        "outputId": "854029e0-b21a-406f-825d-25b288d0724f",
        "colab": {
          "base_uri": "https://localhost:8080/",
          "height": 50
        }
      },
      "source": [
        "model2=DecisionTreeClassifier(ccp_alpha=0.00358483)\n",
        "model2.fit(x_train,y_train)\n",
        "y_predict=model2.predict(x_train)\n",
        "print(\"accuracy of descision tree on the train data set\",accuracy_score(y_predict,y_train))\n",
        "y_predictt=model2.predict(x_test)\n",
        "print(\"accuracy of descision tree on the test data set\",accuracy_score(y_predictt,y_test))"
      ],
      "execution_count": null,
      "outputs": [
        {
          "output_type": "stream",
          "text": [
            "accuracy of descision tree on the train data set 0.8761726078799249\n",
            "accuracy of descision tree on the test data set 0.8595505617977528\n"
          ],
          "name": "stdout"
        }
      ]
    },
    {
      "cell_type": "code",
      "metadata": {
        "id": "zivFdBT-aYke",
        "outputId": "d6933b83-9992-4c52-bf4f-6edc93ba5fca",
        "colab": {
          "base_uri": "https://localhost:8080/",
          "height": 34
        }
      },
      "source": [
        "y_validationn=model2.predict(x_validation)\n",
        "print(\"accuracy of descision tree on the validation data set\",accuracy_score(y_validationn,y_validation))"
      ],
      "execution_count": null,
      "outputs": [
        {
          "output_type": "stream",
          "text": [
            "accuracy of descision tree on the validation data set 0.8089887640449438\n"
          ],
          "name": "stdout"
        }
      ]
    },
    {
      "cell_type": "markdown",
      "metadata": {
        "id": "Md7NlN1EdJK5"
      },
      "source": [
        "#Random Forest"
      ]
    },
    {
      "cell_type": "code",
      "metadata": {
        "id": "_3tN8rABdkPR"
      },
      "source": [
        "from sklearn.ensemble import RandomForestClassifier\n",
        "forest=RandomForestClassifier()"
      ],
      "execution_count": null,
      "outputs": []
    },
    {
      "cell_type": "code",
      "metadata": {
        "id": "r9AvY6AIUDio",
        "outputId": "b43a51aa-0aac-4bef-e5c4-259c6fa0381d",
        "colab": {
          "base_uri": "https://localhost:8080/",
          "height": 151
        }
      },
      "source": [
        "forest.get_params"
      ],
      "execution_count": null,
      "outputs": [
        {
          "output_type": "execute_result",
          "data": {
            "text/plain": [
              "<bound method BaseEstimator.get_params of RandomForestClassifier(bootstrap=True, ccp_alpha=0.0, class_weight=None,\n",
              "                       criterion='gini', max_depth=None, max_features='auto',\n",
              "                       max_leaf_nodes=None, max_samples=None,\n",
              "                       min_impurity_decrease=0.0, min_impurity_split=None,\n",
              "                       min_samples_leaf=1, min_samples_split=2,\n",
              "                       min_weight_fraction_leaf=0.0, n_estimators=100,\n",
              "                       n_jobs=None, oob_score=False, random_state=None,\n",
              "                       verbose=0, warm_start=False)>"
            ]
          },
          "metadata": {
            "tags": []
          },
          "execution_count": 50
        }
      ]
    },
    {
      "cell_type": "code",
      "metadata": {
        "id": "vJJpjgtIUFcG",
        "outputId": "61ae29ff-e032-40b3-9ca4-6e684bb41763",
        "colab": {
          "base_uri": "https://localhost:8080/",
          "height": 50
        }
      },
      "source": [
        "forest.fit(x_train,y_train)\n",
        "y_predict=forest.predict(x_train)\n",
        "print(\"accuracy of descision tree on the train data set\",accuracy_score(y_predict,y_train))\n",
        "y_predictt=forest.predict(x_test)\n",
        "print(\"accuracy of descision tree on the test data set\",accuracy_score(y_predictt,y_test))\n"
      ],
      "execution_count": null,
      "outputs": [
        {
          "output_type": "stream",
          "text": [
            "accuracy of descision tree on the train data set 0.9906191369606003\n",
            "accuracy of descision tree on the test data set 0.848314606741573\n"
          ],
          "name": "stdout"
        }
      ]
    },
    {
      "cell_type": "code",
      "metadata": {
        "id": "g9ct2CZDYSho",
        "outputId": "ed6a85b6-ecac-4a8f-a028-b93372e63d3f",
        "colab": {
          "base_uri": "https://localhost:8080/",
          "height": 34
        }
      },
      "source": [
        "y_validationn=forest.predict(x_validation)\n",
        "print(\"accuracy of descision tree on the validation data set\",accuracy_score(y_validationn,y_validation))"
      ],
      "execution_count": null,
      "outputs": [
        {
          "output_type": "stream",
          "text": [
            "accuracy of descision tree on the validation data set 0.7584269662921348\n"
          ],
          "name": "stdout"
        }
      ]
    },
    {
      "cell_type": "markdown",
      "metadata": {
        "id": "nS4Clyo8ahZX"
      },
      "source": [
        "\n",
        "*  descision trees tend to overfit ,Random Forest reduced the gap between the accuracy of the training ,test and validation dataset  but we still have overfitting  \n",
        "\n",
        "\n"
      ]
    },
    {
      "cell_type": "code",
      "metadata": {
        "id": "Ry8DlF3GYKba",
        "outputId": "7de81a30-5b39-45ce-b8c4-44385a244db0",
        "colab": {
          "base_uri": "https://localhost:8080/",
          "height": 50
        }
      },
      "source": [
        "forest2=RandomForestClassifier(n_estimators=150,max_depth=5)\n",
        "forest2.fit(x_train,y_train)\n",
        "y_predict=forest2.predict(x_train)\n",
        "print(\"accuracy of descision tree on the train data set\",accuracy_score(y_predict,y_train))\n",
        "y_predictt=forest2.predict(x_test)\n",
        "print(\"accuracy of descision tree on the test data set\",accuracy_score(y_predictt,y_test))\n"
      ],
      "execution_count": null,
      "outputs": [
        {
          "output_type": "stream",
          "text": [
            "accuracy of descision tree on the train data set 0.8649155722326454\n",
            "accuracy of descision tree on the test data set 0.8707865168539326\n"
          ],
          "name": "stdout"
        }
      ]
    },
    {
      "cell_type": "code",
      "metadata": {
        "id": "CVeUxQzfVSrB",
        "outputId": "9de02d86-2e8a-433d-b0aa-440b23529975",
        "colab": {
          "base_uri": "https://localhost:8080/",
          "height": 34
        }
      },
      "source": [
        "y_validationn=forest2.predict(x_validation)\n",
        "print(\"accuracy of descision tree on the validation data set\",accuracy_score(y_validationn,y_validation))"
      ],
      "execution_count": null,
      "outputs": [
        {
          "output_type": "stream",
          "text": [
            "accuracy of descision tree on the validation data set 0.8202247191011236\n"
          ],
          "name": "stdout"
        }
      ]
    }
  ]
}